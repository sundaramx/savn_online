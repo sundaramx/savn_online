{
 "cells": [
  {
   "cell_type": "code",
   "execution_count": 1,
   "metadata": {},
   "outputs": [],
   "source": [
    "import online\n",
    "from ai2thor.controller import Controller\n",
    "\n",
    "# Kitchens: FloorPlan1 - FloorPlan30\n",
    "# Living rooms: FloorPlan201 - FloorPlan230\n",
    "# Bedrooms: FloorPlan301 - FloorPlan330\n",
    "# Bathrooms: FloorPLan401 - FloorPlan430\n",
    "\n",
    "controller = Controller(scene='FloorPlan1', gridSize=0.25)"
   ]
  },
  {
   "cell_type": "code",
   "execution_count": 2,
   "metadata": {},
   "outputs": [
    {
     "name": "stderr",
     "output_type": "stream",
     "text": [
      "/Users/jiuqixian/opt/miniconda3/envs/savn/lib/python3.7/site-packages/h5py/_hl/dataset.py:313: H5pyDeprecationWarning: dataset.value has been deprecated. Use dataset[()] instead.\n",
      "  \"Use dataset[()] instead.\", H5pyDeprecationWarning)\n"
     ]
    }
   ],
   "source": [
    "epi = online.Episode(controller, \n",
    "                     target='Cup', \n",
    "                     model_name='SAVN', \n",
    "                     model_path='pretrained_models/savn_pretrained.dat',\n",
    "                     glove_file_path='./data/thor_glove/glove_map300d.hdf5')"
   ]
  },
  {
   "cell_type": "code",
   "execution_count": 3,
   "metadata": {},
   "outputs": [
    {
     "name": "stdout",
     "output_type": "stream",
     "text": [
      "LookDown\n",
      "RotateLeft\n",
      "RotateLeft\n",
      "RotateLeft\n",
      "RotateLeft\n",
      "RotateLeft\n",
      "gradient update\n",
      "RotateLeft\n",
      "RotateLeft\n",
      "RotateLeft\n",
      "RotateLeft\n",
      "RotateLeft\n",
      "RotateLeft\n",
      "gradient update\n",
      "RotateLeft\n",
      "RotateLeft\n",
      "RotateLeft\n",
      "RotateLeft\n",
      "RotateLeft\n",
      "RotateLeft\n",
      "gradient update\n",
      "RotateLeft\n",
      "RotateLeft\n"
     ]
    }
   ],
   "source": [
    "for i in range(20):\n",
    "    epi.step()"
   ]
  },
  {
   "cell_type": "code",
   "execution_count": 18,
   "metadata": {},
   "outputs": [],
   "source": [
    "event = controller.step(action='MoveAhead')\n",
    "frame = event.frame"
   ]
  },
  {
   "cell_type": "code",
   "execution_count": 19,
   "metadata": {},
   "outputs": [
    {
     "data": {
      "text/plain": [
       "'RotateLeft'"
      ]
     },
     "execution_count": 19,
     "metadata": {},
     "output_type": "execute_result"
    },
    {
     "name": "stderr",
     "output_type": "stream",
     "text": [
      "Exception in thread Thread-5:\n",
      "Traceback (most recent call last):\n",
      "  File \"/Users/jiuqixian/opt/miniconda3/envs/savn/lib/python3.7/threading.py\", line 926, in _bootstrap_inner\n",
      "    self.run()\n",
      "  File \"/Users/jiuqixian/opt/miniconda3/envs/savn/lib/python3.7/threading.py\", line 870, in run\n",
      "    self._target(*self._args, **self._kwargs)\n",
      "  File \"/Users/jiuqixian/opt/miniconda3/envs/savn/lib/python3.7/site-packages/ai2thor/controller.py\", line 782, in _start_unity_thread\n",
      "    raise Exception(\"command: %s exited with %s\" % (command, returncode))\n",
      "Exception: command: ['/Users/jiuqixian/.ai2thor/releases/thor-202001071627-OSXIntel64/thor-202001071627-OSXIntel64.app/Contents/MacOS/thor-202001071627-OSXIntel64', '-screen-fullscreen', '0', '-screen-quality', '7', '-screen-width', '300', '-screen-height', '300'] exited with -15\n",
      "\n"
     ]
    }
   ],
   "source": [
    "epi.isolated_step(frame)"
   ]
  },
  {
   "cell_type": "code",
   "execution_count": null,
   "metadata": {},
   "outputs": [],
   "source": []
  },
  {
   "cell_type": "code",
   "execution_count": null,
   "metadata": {},
   "outputs": [],
   "source": []
  }
 ],
 "metadata": {
  "kernelspec": {
   "display_name": "Python 3",
   "language": "python",
   "name": "python3"
  },
  "language_info": {
   "codemirror_mode": {
    "name": "ipython",
    "version": 3
   },
   "file_extension": ".py",
   "mimetype": "text/x-python",
   "name": "python",
   "nbconvert_exporter": "python",
   "pygments_lexer": "ipython3",
   "version": "3.7.6"
  }
 },
 "nbformat": 4,
 "nbformat_minor": 4
}
