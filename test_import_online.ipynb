{
 "cells": [
  {
   "cell_type": "code",
   "execution_count": 23,
   "metadata": {},
   "outputs": [],
   "source": [
    "import online\n",
    "from ai2thor.controller import Controller\n",
    "\n",
    "# Kitchens: FloorPlan1 - FloorPlan30\n",
    "# Living rooms: FloorPlan201 - FloorPlan230\n",
    "# Bedrooms: FloorPlan301 - FloorPlan330\n",
    "# Bathrooms: FloorPLan401 - FloorPlan430\n",
    "# KITCHEN_OBJECT_CLASS_LIST = [\n",
    "#     \"Toaster\",\n",
    "#     \"Microwave\",\n",
    "#     \"Fridge\",\n",
    "#     \"CoffeeMaker\",\n",
    "#     \"GarbageCan\",\n",
    "#     \"Box\",\n",
    "#     \"Bowl\",\n",
    "# ]\n",
    "\n",
    "# LIVING_ROOM_OBJECT_CLASS_LIST = [\n",
    "#     \"Pillow\",\n",
    "#     \"Laptop\",\n",
    "#     \"Television\",\n",
    "#     \"GarbageCan\",\n",
    "#     \"Box\",\n",
    "#     \"Bowl\",\n",
    "# ]\n",
    "\n",
    "# BEDROOM_OBJECT_CLASS_LIST = [\"HousePlant\", \"Lamp\", \"Book\", \"AlarmClock\"]\n",
    "\n",
    "\n",
    "# BATHROOM_OBJECT_CLASS_LIST = [\"Sink\", \"ToiletPaper\", \"SoapBottle\", \"LightSwitch\"]\n",
    "\n",
    "controller = Controller(scene='FloorPlan1', gridSize=0.25)"
   ]
  },
  {
   "cell_type": "code",
   "execution_count": 24,
   "metadata": {},
   "outputs": [
    {
     "name": "stderr",
     "output_type": "stream",
     "text": [
      "/Users/jiuqixian/opt/miniconda3/envs/savn/lib/python3.7/site-packages/h5py/_hl/dataset.py:313: H5pyDeprecationWarning: dataset.value has been deprecated. Use dataset[()] instead.\n",
      "  \"Use dataset[()] instead.\", H5pyDeprecationWarning)\n"
     ]
    },
    {
     "name": "stdout",
     "output_type": "stream",
     "text": [
      "LookDown\n",
      "RotateLeft\n",
      "RotateLeft\n",
      "RotateLeft\n",
      "RotateLeft\n",
      "RotateLeft\n",
      "gradient update\n",
      "RotateLeft\n",
      "RotateLeft\n",
      "RotateLeft\n",
      "RotateLeft\n",
      "RotateLeft\n",
      "RotateLeft\n",
      "gradient update\n",
      "RotateLeft\n",
      "RotateLeft\n",
      "RotateLeft\n",
      "RotateLeft\n",
      "RotateLeft\n",
      "RotateLeft\n",
      "gradient update\n",
      "RotateLeft\n",
      "RotateLeft\n",
      "RotateLeft\n",
      "RotateLeft\n",
      "RotateLeft\n",
      "MoveAhead\n",
      "MoveAhead\n",
      "RotateRight\n",
      "RotateRight\n",
      "RotateLeft\n",
      "RotateLeft\n",
      "RotateRight\n",
      "Agent Done\n",
      "Agent Done\n"
     ]
    }
   ],
   "source": [
    "# MODEL_PATH_DICT = {'SAVN' : 'pretrained_models/savn_pretrained.dat',\n",
    "#                    'NON_ADAPTIVE_A3C': 'pretrained_models/nonadaptivea3c_pretrained.dat',\n",
    "#                    'GCN':'pretrained_models/gcn_pretrained.dat' }\n",
    "# GLOVE_FILE = './data/thor_glove/glove_map300d.hdf5'\n",
    "# ACTION_LIST = ['MoveAhead', 'RotateLeft', 'RotateRight', 'LookUp', 'LookDown', 'Done']\n",
    "\n",
    "epi = online.Episode(controller, \n",
    "                     target='Cup', \n",
    "                     model_name='SAVN', \n",
    "                     model_path='pretrained_models/savn_pretrained.dat',\n",
    "                     glove_file_path='./data/thor_glove/glove_map300d.hdf5')\n",
    "\n",
    "for i in range(40):\n",
    "    epi.step()"
   ]
  },
  {
   "cell_type": "code",
   "execution_count": 14,
   "metadata": {},
   "outputs": [],
   "source": [
    "event = controller.step(action='MoveAhead')\n",
    "test_frame = event.frame"
   ]
  },
  {
   "cell_type": "code",
   "execution_count": 17,
   "metadata": {},
   "outputs": [
    {
     "data": {
      "text/plain": [
       "'LookDown'"
      ]
     },
     "execution_count": 17,
     "metadata": {},
     "output_type": "execute_result"
    }
   ],
   "source": [
    "epi2 = online.Episode(controller, \n",
    "                     target='Cup', \n",
    "                     model_name='SAVN', \n",
    "                     model_path='pretrained_models/savn_pretrained.dat',\n",
    "                     glove_file_path='./data/thor_glove/glove_map300d.hdf5')\n",
    "\n",
    "epi2.isolated_step(test_frame)"
   ]
  },
  {
   "cell_type": "code",
   "execution_count": null,
   "metadata": {},
   "outputs": [],
   "source": []
  },
  {
   "cell_type": "code",
   "execution_count": null,
   "metadata": {},
   "outputs": [],
   "source": []
  }
 ],
 "metadata": {
  "kernelspec": {
   "display_name": "Python 3",
   "language": "python",
   "name": "python3"
  },
  "language_info": {
   "codemirror_mode": {
    "name": "ipython",
    "version": 3
   },
   "file_extension": ".py",
   "mimetype": "text/x-python",
   "name": "python",
   "nbconvert_exporter": "python",
   "pygments_lexer": "ipython3",
   "version": "3.7.6"
  }
 },
 "nbformat": 4,
 "nbformat_minor": 4
}
